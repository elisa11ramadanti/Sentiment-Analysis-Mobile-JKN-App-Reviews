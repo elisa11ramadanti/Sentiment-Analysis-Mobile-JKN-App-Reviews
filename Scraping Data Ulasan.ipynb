{
  "nbformat": 4,
  "nbformat_minor": 0,
  "metadata": {
    "colab": {
      "provenance": []
    },
    "kernelspec": {
      "name": "python3",
      "display_name": "Python 3"
    },
    "language_info": {
      "name": "python"
    }
  },
  "cells": [
    {
      "cell_type": "markdown",
      "source": [
        "Nama: Elisa Ramadanti"
      ],
      "metadata": {
        "id": "NkxR5wE3trjE"
      }
    },
    {
      "cell_type": "markdown",
      "source": [
        "# **Scapping Dataset**\n",
        "\n",
        "Dalam proyek ini, analisis sentimen akan dilakukan terhadap ulasan dan pendapat pengguna mengenai aplikasi \"Mobile JKN\" yang diambil dari Play Store. Analisis ini bertujuan untuk memahami bagaimana pengguna merasakan dan menyampaikan pandangan mereka terhadap aplikasi tersebut.\n",
        "\n",
        "Dengan memanfaatkan berbagai teknik pemrosesan teks dan algoritma machine learning, proyek ini berfokus pada pengelompokan ulasan pengguna ke dalam tiga kategori sentimen: positif, negatif, atau netral. Hasil analisis ini diharapkan dapat memberikan wawasan yang berharga bagi pengembang aplikasi untuk meningkatkan kualitas dan pengalaman pengguna secara keseluruhan."
      ],
      "metadata": {
        "id": "qvKnRHq-sYfy"
      }
    },
    {
      "cell_type": "markdown",
      "source": [
        "## **Import Library**"
      ],
      "metadata": {
        "id": "o7AT7jiGq-l3"
      }
    },
    {
      "cell_type": "markdown",
      "source": [
        "**Menginstal library google-play-scraper untuk scraping ulasan aplikasi**"
      ],
      "metadata": {
        "id": "pJnXeMuIrEn_"
      }
    },
    {
      "cell_type": "code",
      "execution_count": 1,
      "metadata": {
        "colab": {
          "base_uri": "https://localhost:8080/"
        },
        "id": "REcaEuvAIq8B",
        "outputId": "254ff7be-30ea-4b73-8e01-9e150a32e13a"
      },
      "outputs": [
        {
          "output_type": "stream",
          "name": "stdout",
          "text": [
            "Collecting google-play-scraper\n",
            "  Downloading google_play_scraper-1.2.7-py3-none-any.whl.metadata (50 kB)\n",
            "\u001b[?25l     \u001b[90m━━━━━━━━━━━━━━━━━━━━━━━━━━━━━━━━━━━━━━━━\u001b[0m \u001b[32m0.0/50.2 kB\u001b[0m \u001b[31m?\u001b[0m eta \u001b[36m-:--:--\u001b[0m\r\u001b[2K     \u001b[90m━━━━━━━━━━━━━━━━━━━━━━━━━━━━━━━━━━━━━━━━\u001b[0m \u001b[32m50.2/50.2 kB\u001b[0m \u001b[31m2.6 MB/s\u001b[0m eta \u001b[36m0:00:00\u001b[0m\n",
            "\u001b[?25hDownloading google_play_scraper-1.2.7-py3-none-any.whl (28 kB)\n",
            "Installing collected packages: google-play-scraper\n",
            "Successfully installed google-play-scraper-1.2.7\n"
          ]
        }
      ],
      "source": [
        "!pip install google-play-scraper"
      ]
    },
    {
      "cell_type": "code",
      "source": [
        "from google_play_scraper import app, reviews, reviews_all, Sort\n",
        "import pandas as pd\n",
        "import csv\n",
        "from google.colab import drive\n",
        "drive.mount('/content/drive')"
      ],
      "metadata": {
        "colab": {
          "base_uri": "https://localhost:8080/"
        },
        "id": "Tjho3s7hjr_u",
        "outputId": "bacc11ee-7548-4a6c-83e9-bcb7b48b58a2"
      },
      "execution_count": 7,
      "outputs": [
        {
          "output_type": "stream",
          "name": "stdout",
          "text": [
            "Drive already mounted at /content/drive; to attempt to forcibly remount, call drive.mount(\"/content/drive\", force_remount=True).\n"
          ]
        }
      ]
    },
    {
      "cell_type": "markdown",
      "source": [
        "**Mengambil semua ulasan aplikasi menggunakan google-play-scraper**"
      ],
      "metadata": {
        "id": "dDhJRdFMrIWb"
      }
    },
    {
      "cell_type": "markdown",
      "source": [
        "-  Kode digunakan untuk mengambil semua ulasan dari sebuah aplikasi di Google Play Store dengan ID 'com.telkomsel.telkomselcm'.\n",
        "-  Ini menggunakan **pustaka google_play_scrape**r untuk mengakses ulasan dan informasi aplikasi dari Google Play Store.\n",
        "-   Dalam kode ini, kita menggunakan **fungsi reviews_all()** untuk mengambil semua ulasan dari aplikasi tersebut."
      ],
      "metadata": {
        "id": "3q2oOP6xr46h"
      }
    },
    {
      "cell_type": "code",
      "source": [
        "# Informasi aplikasi\n",
        "app_id = 'app.bpjs.mobile'  #ID Aplikasi\n",
        "lang = 'id'                 #Bahasa\n",
        "country = 'id'              #Negara"
      ],
      "metadata": {
        "id": "rVAbL-BH08f0"
      },
      "execution_count": 3,
      "outputs": []
    },
    {
      "cell_type": "code",
      "source": [
        "print(\"Mengambil ulasan aplikasi...\")\n",
        "scrapreview = reviews_all(\n",
        "    app_id,\n",
        "    lang=lang,\n",
        "    country=country,\n",
        "    sort=Sort.MOST_RELEVANT,\n",
        "    count=5000)"
      ],
      "metadata": {
        "colab": {
          "base_uri": "https://localhost:8080/"
        },
        "id": "3IAznCvq3Ra4",
        "outputId": "e70e0a2e-e45b-4383-b314-a773d9584a95"
      },
      "execution_count": 8,
      "outputs": [
        {
          "output_type": "stream",
          "name": "stdout",
          "text": [
            "Mengambil ulasan aplikasi...\n"
          ]
        }
      ]
    },
    {
      "cell_type": "code",
      "source": [
        "# Menyimpan hasil scraping ke dalam file CSV lokal\n",
        "print(\"Menyimpan hasil scraping ke dalam file CSV lokal...\")\n",
        "with open('Scraping_.csv', mode='w', newline='', encoding='utf-8') as file:\n",
        "    writer = csv.writer(file)\n",
        "    writer.writerow(['Review'])  # Menulis header kolom\n",
        "    for review in scrapreview:\n",
        "        writer.writerow([review['content']])"
      ],
      "metadata": {
        "colab": {
          "base_uri": "https://localhost:8080/"
        },
        "id": "_L02TUF637-6",
        "outputId": "16d2239c-a3b0-4cb8-bda3-d3bc257219a5"
      },
      "execution_count": 10,
      "outputs": [
        {
          "output_type": "stream",
          "name": "stdout",
          "text": [
            "Menyimpan hasil scraping ke dalam file CSV lokal...\n"
          ]
        }
      ]
    },
    {
      "cell_type": "code",
      "source": [
        "# Membuat DataFrame dari hasil scraping\n",
        "print(\"Membuat DataFrame dari hasil scraping...\")\n",
        "df = pd.DataFrame(scrapreview)"
      ],
      "metadata": {
        "colab": {
          "base_uri": "https://localhost:8080/"
        },
        "id": "kOH_8RKF3-s8",
        "outputId": "7f4ef9a0-3376-47f3-a17b-7381d111ab6b"
      },
      "execution_count": 11,
      "outputs": [
        {
          "output_type": "stream",
          "name": "stdout",
          "text": [
            "Membuat DataFrame dari hasil scraping...\n"
          ]
        }
      ]
    },
    {
      "cell_type": "code",
      "source": [
        "# Menyimpan DataFrame ke file CSV di Google Drive\n",
        "file_path_drive = '/content/drive/MyDrive/Dataset/Scraping_.csv'\n",
        "df.to_csv(file_path_drive, index=False)\n",
        "print(f\"Hasil scraping berhasil disimpan ke {file_path_drive}\")"
      ],
      "metadata": {
        "colab": {
          "base_uri": "https://localhost:8080/"
        },
        "id": "BNsP75eX4A1E",
        "outputId": "a8e55553-a8dc-473f-bde1-b776c43cd1e4"
      },
      "execution_count": 12,
      "outputs": [
        {
          "output_type": "stream",
          "name": "stdout",
          "text": [
            "Hasil scraping berhasil disimpan ke /content/drive/MyDrive/Dataset/Scraping_.csv\n"
          ]
        }
      ]
    },
    {
      "cell_type": "code",
      "source": [
        "# Menampilkan informasi DataFrame\n",
        "print(\"\\nInformasi DataFrame:\")\n",
        "print(df.info())"
      ],
      "metadata": {
        "colab": {
          "base_uri": "https://localhost:8080/"
        },
        "id": "_8Irc1jY4Rq4",
        "outputId": "03c92dcd-10db-401f-e142-34972d4c1f59"
      },
      "execution_count": 13,
      "outputs": [
        {
          "output_type": "stream",
          "name": "stdout",
          "text": [
            "\n",
            "Informasi DataFrame:\n",
            "<class 'pandas.core.frame.DataFrame'>\n",
            "RangeIndex: 211500 entries, 0 to 211499\n",
            "Data columns (total 11 columns):\n",
            " #   Column                Non-Null Count   Dtype         \n",
            "---  ------                --------------   -----         \n",
            " 0   reviewId              211500 non-null  object        \n",
            " 1   userName              211500 non-null  object        \n",
            " 2   userImage             211500 non-null  object        \n",
            " 3   content               211499 non-null  object        \n",
            " 4   score                 211500 non-null  int64         \n",
            " 5   thumbsUpCount         211500 non-null  int64         \n",
            " 6   reviewCreatedVersion  185776 non-null  object        \n",
            " 7   at                    211500 non-null  datetime64[ns]\n",
            " 8   replyContent          132030 non-null  object        \n",
            " 9   repliedAt             132030 non-null  datetime64[ns]\n",
            " 10  appVersion            185776 non-null  object        \n",
            "dtypes: datetime64[ns](2), int64(2), object(7)\n",
            "memory usage: 17.7+ MB\n",
            "None\n"
          ]
        }
      ]
    },
    {
      "cell_type": "code",
      "source": [
        "# Menampilkan beberapa baris pertama dari DataFrame\n",
        "print(\"\\nBeberapa baris pertama dari DataFrame:\")\n",
        "df.head()"
      ],
      "metadata": {
        "colab": {
          "base_uri": "https://localhost:8080/",
          "height": 696
        },
        "id": "0zHDg1Ov4W0o",
        "outputId": "d89a479c-41d2-42d6-d16b-fa6f5b3b2275"
      },
      "execution_count": 14,
      "outputs": [
        {
          "output_type": "stream",
          "name": "stdout",
          "text": [
            "\n",
            "Beberapa baris pertama dari DataFrame:\n"
          ]
        },
        {
          "output_type": "execute_result",
          "data": {
            "text/plain": [
              "                               reviewId         userName  \\\n",
              "0  cace4851-2514-4b6e-a39e-287cc28e5d5e  Pengguna Google   \n",
              "1  7c56deef-8ffe-4fa3-bcfd-000f18a17b64  Pengguna Google   \n",
              "2  72ab714b-f62b-4a36-9df2-1a090722d5d2  Pengguna Google   \n",
              "3  58092196-abc1-48ff-b07a-53b0b16715ee  Pengguna Google   \n",
              "4  b746b7d9-d28e-4142-90b9-c50664433bba  Pengguna Google   \n",
              "\n",
              "                                           userImage  \\\n",
              "0  https://play-lh.googleusercontent.com/EGemoI2N...   \n",
              "1  https://play-lh.googleusercontent.com/EGemoI2N...   \n",
              "2  https://play-lh.googleusercontent.com/EGemoI2N...   \n",
              "3  https://play-lh.googleusercontent.com/EGemoI2N...   \n",
              "4  https://play-lh.googleusercontent.com/EGemoI2N...   \n",
              "\n",
              "                                             content  score  thumbsUpCount  \\\n",
              "0  Untuk perubahan mudah, cumak untuk hasilnya zo...      3              0   \n",
              "1  Aplikasi apa sih ini? Kok busuk banget rasanya...      1            145   \n",
              "2  Mau daftar aja susah sekali Verifikasi wajah g...      1            131   \n",
              "3  Aplikasiii apaann, malah ribet. Verifikasi no ...      1            115   \n",
              "4  1. Susah verif muka. Padahal lighting sudah te...      1             51   \n",
              "\n",
              "  reviewCreatedVersion                  at replyContent repliedAt appVersion  \n",
              "0                 None 2025-01-16 00:30:19         None       NaT       None  \n",
              "1               4.11.2 2025-01-15 13:37:40         None       NaT     4.11.2  \n",
              "2               4.11.2 2025-01-16 00:53:35         None       NaT     4.11.2  \n",
              "3               4.11.2 2025-01-17 09:33:26         None       NaT     4.11.2  \n",
              "4               4.11.2 2025-01-20 12:12:53         None       NaT     4.11.2  "
            ],
            "text/html": [
              "\n",
              "  <div id=\"df-615a180c-ae09-44cf-9c14-71c36e83a366\" class=\"colab-df-container\">\n",
              "    <div>\n",
              "<style scoped>\n",
              "    .dataframe tbody tr th:only-of-type {\n",
              "        vertical-align: middle;\n",
              "    }\n",
              "\n",
              "    .dataframe tbody tr th {\n",
              "        vertical-align: top;\n",
              "    }\n",
              "\n",
              "    .dataframe thead th {\n",
              "        text-align: right;\n",
              "    }\n",
              "</style>\n",
              "<table border=\"1\" class=\"dataframe\">\n",
              "  <thead>\n",
              "    <tr style=\"text-align: right;\">\n",
              "      <th></th>\n",
              "      <th>reviewId</th>\n",
              "      <th>userName</th>\n",
              "      <th>userImage</th>\n",
              "      <th>content</th>\n",
              "      <th>score</th>\n",
              "      <th>thumbsUpCount</th>\n",
              "      <th>reviewCreatedVersion</th>\n",
              "      <th>at</th>\n",
              "      <th>replyContent</th>\n",
              "      <th>repliedAt</th>\n",
              "      <th>appVersion</th>\n",
              "    </tr>\n",
              "  </thead>\n",
              "  <tbody>\n",
              "    <tr>\n",
              "      <th>0</th>\n",
              "      <td>cace4851-2514-4b6e-a39e-287cc28e5d5e</td>\n",
              "      <td>Pengguna Google</td>\n",
              "      <td>https://play-lh.googleusercontent.com/EGemoI2N...</td>\n",
              "      <td>Untuk perubahan mudah, cumak untuk hasilnya zo...</td>\n",
              "      <td>3</td>\n",
              "      <td>0</td>\n",
              "      <td>None</td>\n",
              "      <td>2025-01-16 00:30:19</td>\n",
              "      <td>None</td>\n",
              "      <td>NaT</td>\n",
              "      <td>None</td>\n",
              "    </tr>\n",
              "    <tr>\n",
              "      <th>1</th>\n",
              "      <td>7c56deef-8ffe-4fa3-bcfd-000f18a17b64</td>\n",
              "      <td>Pengguna Google</td>\n",
              "      <td>https://play-lh.googleusercontent.com/EGemoI2N...</td>\n",
              "      <td>Aplikasi apa sih ini? Kok busuk banget rasanya...</td>\n",
              "      <td>1</td>\n",
              "      <td>145</td>\n",
              "      <td>4.11.2</td>\n",
              "      <td>2025-01-15 13:37:40</td>\n",
              "      <td>None</td>\n",
              "      <td>NaT</td>\n",
              "      <td>4.11.2</td>\n",
              "    </tr>\n",
              "    <tr>\n",
              "      <th>2</th>\n",
              "      <td>72ab714b-f62b-4a36-9df2-1a090722d5d2</td>\n",
              "      <td>Pengguna Google</td>\n",
              "      <td>https://play-lh.googleusercontent.com/EGemoI2N...</td>\n",
              "      <td>Mau daftar aja susah sekali Verifikasi wajah g...</td>\n",
              "      <td>1</td>\n",
              "      <td>131</td>\n",
              "      <td>4.11.2</td>\n",
              "      <td>2025-01-16 00:53:35</td>\n",
              "      <td>None</td>\n",
              "      <td>NaT</td>\n",
              "      <td>4.11.2</td>\n",
              "    </tr>\n",
              "    <tr>\n",
              "      <th>3</th>\n",
              "      <td>58092196-abc1-48ff-b07a-53b0b16715ee</td>\n",
              "      <td>Pengguna Google</td>\n",
              "      <td>https://play-lh.googleusercontent.com/EGemoI2N...</td>\n",
              "      <td>Aplikasiii apaann, malah ribet. Verifikasi no ...</td>\n",
              "      <td>1</td>\n",
              "      <td>115</td>\n",
              "      <td>4.11.2</td>\n",
              "      <td>2025-01-17 09:33:26</td>\n",
              "      <td>None</td>\n",
              "      <td>NaT</td>\n",
              "      <td>4.11.2</td>\n",
              "    </tr>\n",
              "    <tr>\n",
              "      <th>4</th>\n",
              "      <td>b746b7d9-d28e-4142-90b9-c50664433bba</td>\n",
              "      <td>Pengguna Google</td>\n",
              "      <td>https://play-lh.googleusercontent.com/EGemoI2N...</td>\n",
              "      <td>1. Susah verif muka. Padahal lighting sudah te...</td>\n",
              "      <td>1</td>\n",
              "      <td>51</td>\n",
              "      <td>4.11.2</td>\n",
              "      <td>2025-01-20 12:12:53</td>\n",
              "      <td>None</td>\n",
              "      <td>NaT</td>\n",
              "      <td>4.11.2</td>\n",
              "    </tr>\n",
              "  </tbody>\n",
              "</table>\n",
              "</div>\n",
              "    <div class=\"colab-df-buttons\">\n",
              "\n",
              "  <div class=\"colab-df-container\">\n",
              "    <button class=\"colab-df-convert\" onclick=\"convertToInteractive('df-615a180c-ae09-44cf-9c14-71c36e83a366')\"\n",
              "            title=\"Convert this dataframe to an interactive table.\"\n",
              "            style=\"display:none;\">\n",
              "\n",
              "  <svg xmlns=\"http://www.w3.org/2000/svg\" height=\"24px\" viewBox=\"0 -960 960 960\">\n",
              "    <path d=\"M120-120v-720h720v720H120Zm60-500h600v-160H180v160Zm220 220h160v-160H400v160Zm0 220h160v-160H400v160ZM180-400h160v-160H180v160Zm440 0h160v-160H620v160ZM180-180h160v-160H180v160Zm440 0h160v-160H620v160Z\"/>\n",
              "  </svg>\n",
              "    </button>\n",
              "\n",
              "  <style>\n",
              "    .colab-df-container {\n",
              "      display:flex;\n",
              "      gap: 12px;\n",
              "    }\n",
              "\n",
              "    .colab-df-convert {\n",
              "      background-color: #E8F0FE;\n",
              "      border: none;\n",
              "      border-radius: 50%;\n",
              "      cursor: pointer;\n",
              "      display: none;\n",
              "      fill: #1967D2;\n",
              "      height: 32px;\n",
              "      padding: 0 0 0 0;\n",
              "      width: 32px;\n",
              "    }\n",
              "\n",
              "    .colab-df-convert:hover {\n",
              "      background-color: #E2EBFA;\n",
              "      box-shadow: 0px 1px 2px rgba(60, 64, 67, 0.3), 0px 1px 3px 1px rgba(60, 64, 67, 0.15);\n",
              "      fill: #174EA6;\n",
              "    }\n",
              "\n",
              "    .colab-df-buttons div {\n",
              "      margin-bottom: 4px;\n",
              "    }\n",
              "\n",
              "    [theme=dark] .colab-df-convert {\n",
              "      background-color: #3B4455;\n",
              "      fill: #D2E3FC;\n",
              "    }\n",
              "\n",
              "    [theme=dark] .colab-df-convert:hover {\n",
              "      background-color: #434B5C;\n",
              "      box-shadow: 0px 1px 3px 1px rgba(0, 0, 0, 0.15);\n",
              "      filter: drop-shadow(0px 1px 2px rgba(0, 0, 0, 0.3));\n",
              "      fill: #FFFFFF;\n",
              "    }\n",
              "  </style>\n",
              "\n",
              "    <script>\n",
              "      const buttonEl =\n",
              "        document.querySelector('#df-615a180c-ae09-44cf-9c14-71c36e83a366 button.colab-df-convert');\n",
              "      buttonEl.style.display =\n",
              "        google.colab.kernel.accessAllowed ? 'block' : 'none';\n",
              "\n",
              "      async function convertToInteractive(key) {\n",
              "        const element = document.querySelector('#df-615a180c-ae09-44cf-9c14-71c36e83a366');\n",
              "        const dataTable =\n",
              "          await google.colab.kernel.invokeFunction('convertToInteractive',\n",
              "                                                    [key], {});\n",
              "        if (!dataTable) return;\n",
              "\n",
              "        const docLinkHtml = 'Like what you see? Visit the ' +\n",
              "          '<a target=\"_blank\" href=https://colab.research.google.com/notebooks/data_table.ipynb>data table notebook</a>'\n",
              "          + ' to learn more about interactive tables.';\n",
              "        element.innerHTML = '';\n",
              "        dataTable['output_type'] = 'display_data';\n",
              "        await google.colab.output.renderOutput(dataTable, element);\n",
              "        const docLink = document.createElement('div');\n",
              "        docLink.innerHTML = docLinkHtml;\n",
              "        element.appendChild(docLink);\n",
              "      }\n",
              "    </script>\n",
              "  </div>\n",
              "\n",
              "\n",
              "<div id=\"df-5ce32335-f5f3-4613-9694-8fc9b9cbe2f8\">\n",
              "  <button class=\"colab-df-quickchart\" onclick=\"quickchart('df-5ce32335-f5f3-4613-9694-8fc9b9cbe2f8')\"\n",
              "            title=\"Suggest charts\"\n",
              "            style=\"display:none;\">\n",
              "\n",
              "<svg xmlns=\"http://www.w3.org/2000/svg\" height=\"24px\"viewBox=\"0 0 24 24\"\n",
              "     width=\"24px\">\n",
              "    <g>\n",
              "        <path d=\"M19 3H5c-1.1 0-2 .9-2 2v14c0 1.1.9 2 2 2h14c1.1 0 2-.9 2-2V5c0-1.1-.9-2-2-2zM9 17H7v-7h2v7zm4 0h-2V7h2v10zm4 0h-2v-4h2v4z\"/>\n",
              "    </g>\n",
              "</svg>\n",
              "  </button>\n",
              "\n",
              "<style>\n",
              "  .colab-df-quickchart {\n",
              "      --bg-color: #E8F0FE;\n",
              "      --fill-color: #1967D2;\n",
              "      --hover-bg-color: #E2EBFA;\n",
              "      --hover-fill-color: #174EA6;\n",
              "      --disabled-fill-color: #AAA;\n",
              "      --disabled-bg-color: #DDD;\n",
              "  }\n",
              "\n",
              "  [theme=dark] .colab-df-quickchart {\n",
              "      --bg-color: #3B4455;\n",
              "      --fill-color: #D2E3FC;\n",
              "      --hover-bg-color: #434B5C;\n",
              "      --hover-fill-color: #FFFFFF;\n",
              "      --disabled-bg-color: #3B4455;\n",
              "      --disabled-fill-color: #666;\n",
              "  }\n",
              "\n",
              "  .colab-df-quickchart {\n",
              "    background-color: var(--bg-color);\n",
              "    border: none;\n",
              "    border-radius: 50%;\n",
              "    cursor: pointer;\n",
              "    display: none;\n",
              "    fill: var(--fill-color);\n",
              "    height: 32px;\n",
              "    padding: 0;\n",
              "    width: 32px;\n",
              "  }\n",
              "\n",
              "  .colab-df-quickchart:hover {\n",
              "    background-color: var(--hover-bg-color);\n",
              "    box-shadow: 0 1px 2px rgba(60, 64, 67, 0.3), 0 1px 3px 1px rgba(60, 64, 67, 0.15);\n",
              "    fill: var(--button-hover-fill-color);\n",
              "  }\n",
              "\n",
              "  .colab-df-quickchart-complete:disabled,\n",
              "  .colab-df-quickchart-complete:disabled:hover {\n",
              "    background-color: var(--disabled-bg-color);\n",
              "    fill: var(--disabled-fill-color);\n",
              "    box-shadow: none;\n",
              "  }\n",
              "\n",
              "  .colab-df-spinner {\n",
              "    border: 2px solid var(--fill-color);\n",
              "    border-color: transparent;\n",
              "    border-bottom-color: var(--fill-color);\n",
              "    animation:\n",
              "      spin 1s steps(1) infinite;\n",
              "  }\n",
              "\n",
              "  @keyframes spin {\n",
              "    0% {\n",
              "      border-color: transparent;\n",
              "      border-bottom-color: var(--fill-color);\n",
              "      border-left-color: var(--fill-color);\n",
              "    }\n",
              "    20% {\n",
              "      border-color: transparent;\n",
              "      border-left-color: var(--fill-color);\n",
              "      border-top-color: var(--fill-color);\n",
              "    }\n",
              "    30% {\n",
              "      border-color: transparent;\n",
              "      border-left-color: var(--fill-color);\n",
              "      border-top-color: var(--fill-color);\n",
              "      border-right-color: var(--fill-color);\n",
              "    }\n",
              "    40% {\n",
              "      border-color: transparent;\n",
              "      border-right-color: var(--fill-color);\n",
              "      border-top-color: var(--fill-color);\n",
              "    }\n",
              "    60% {\n",
              "      border-color: transparent;\n",
              "      border-right-color: var(--fill-color);\n",
              "    }\n",
              "    80% {\n",
              "      border-color: transparent;\n",
              "      border-right-color: var(--fill-color);\n",
              "      border-bottom-color: var(--fill-color);\n",
              "    }\n",
              "    90% {\n",
              "      border-color: transparent;\n",
              "      border-bottom-color: var(--fill-color);\n",
              "    }\n",
              "  }\n",
              "</style>\n",
              "\n",
              "  <script>\n",
              "    async function quickchart(key) {\n",
              "      const quickchartButtonEl =\n",
              "        document.querySelector('#' + key + ' button');\n",
              "      quickchartButtonEl.disabled = true;  // To prevent multiple clicks.\n",
              "      quickchartButtonEl.classList.add('colab-df-spinner');\n",
              "      try {\n",
              "        const charts = await google.colab.kernel.invokeFunction(\n",
              "            'suggestCharts', [key], {});\n",
              "      } catch (error) {\n",
              "        console.error('Error during call to suggestCharts:', error);\n",
              "      }\n",
              "      quickchartButtonEl.classList.remove('colab-df-spinner');\n",
              "      quickchartButtonEl.classList.add('colab-df-quickchart-complete');\n",
              "    }\n",
              "    (() => {\n",
              "      let quickchartButtonEl =\n",
              "        document.querySelector('#df-5ce32335-f5f3-4613-9694-8fc9b9cbe2f8 button');\n",
              "      quickchartButtonEl.style.display =\n",
              "        google.colab.kernel.accessAllowed ? 'block' : 'none';\n",
              "    })();\n",
              "  </script>\n",
              "</div>\n",
              "\n",
              "    </div>\n",
              "  </div>\n"
            ],
            "application/vnd.google.colaboratory.intrinsic+json": {
              "type": "dataframe",
              "variable_name": "df"
            }
          },
          "metadata": {},
          "execution_count": 14
        }
      ]
    },
    {
      "cell_type": "code",
      "source": [
        "# Menghitung jumlah baris dan kolom dalam DataFrame\n",
        "jumlah_ulasan, jumlah_kolom = df.shape\n",
        "print(f\"\\nJumlah ulasan: {jumlah_ulasan}\")\n",
        "print(f\"Jumlah kolom: {jumlah_kolom}\")"
      ],
      "metadata": {
        "colab": {
          "base_uri": "https://localhost:8080/"
        },
        "id": "OzXOQiju4YXj",
        "outputId": "794b7f85-c980-4371-fc1e-b3a3df04e348"
      },
      "execution_count": 15,
      "outputs": [
        {
          "output_type": "stream",
          "name": "stdout",
          "text": [
            "\n",
            "Jumlah ulasan: 211500\n",
            "Jumlah kolom: 11\n"
          ]
        }
      ]
    }
  ]
}